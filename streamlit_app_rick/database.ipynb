{
 "cells": [
  {
   "cell_type": "code",
   "execution_count": 3,
   "id": "80699aee-096f-431e-9f55-e20adfb5e6b8",
   "metadata": {
    "tags": []
   },
   "outputs": [],
   "source": [
    "import sqlite3\n",
    "import pandas as pd\n",
    "from sqlalchemy import create_engine, MetaData"
   ]
  },
  {
   "cell_type": "code",
   "execution_count": 4,
   "id": "6b0e7da6-1909-499c-ac1a-a038eb3738ea",
   "metadata": {
    "tags": []
   },
   "outputs": [],
   "source": [
    "%load_ext sql\n",
    "%sql sqlite:///database/user_presets.db"
   ]
  },
  {
   "cell_type": "code",
   "execution_count": 25,
   "id": "b4dd8b31-962d-4e66-b55a-31f87b889f51",
   "metadata": {
    "tags": []
   },
   "outputs": [
    {
     "name": "stdout",
     "output_type": "stream",
     "text": [
      " * sqlite:///database/user_presets.db\n",
      "Done.\n"
     ]
    },
    {
     "data": {
      "text/html": [
       "<table>\n",
       "    <thead>\n",
       "        <tr>\n",
       "            <th>type</th>\n",
       "            <th>name</th>\n",
       "            <th>tbl_name</th>\n",
       "            <th>rootpage</th>\n",
       "            <th>sql</th>\n",
       "        </tr>\n",
       "    </thead>\n",
       "    <tbody>\n",
       "        <tr>\n",
       "            <td>table</td>\n",
       "            <td>users</td>\n",
       "            <td>users</td>\n",
       "            <td>2</td>\n",
       "            <td>CREATE TABLE users (<br>\tid INTEGER NOT NULL, <br>\tusername VARCHAR, <br>\tPRIMARY KEY (id)<br>)</td>\n",
       "        </tr>\n",
       "        <tr>\n",
       "            <td>index</td>\n",
       "            <td>ix_users_username</td>\n",
       "            <td>users</td>\n",
       "            <td>3</td>\n",
       "            <td>CREATE UNIQUE INDEX ix_users_username ON users (username)</td>\n",
       "        </tr>\n",
       "        <tr>\n",
       "            <td>index</td>\n",
       "            <td>ix_users_id</td>\n",
       "            <td>users</td>\n",
       "            <td>4</td>\n",
       "            <td>CREATE INDEX ix_users_id ON users (id)</td>\n",
       "        </tr>\n",
       "        <tr>\n",
       "            <td>table</td>\n",
       "            <td>user_presets</td>\n",
       "            <td>user_presets</td>\n",
       "            <td>6</td>\n",
       "            <td>CREATE TABLE user_presets (<br>\tid INTEGER NOT NULL, <br>\tusername VARCHAR, <br>\tprofilename VARCHAR, <br>\ttime_line VARCHAR, <br>\tmedia_buyer VARCHAR, <br>\tactiver_days INTEGER, <br>\tcampaign VARCHAR, <br>\tuser_id INTEGER, <br>\tPRIMARY KEY (id), <br>\tFOREIGN KEY(user_id) REFERENCES users (id)<br>)</td>\n",
       "        </tr>\n",
       "        <tr>\n",
       "            <td>index</td>\n",
       "            <td>ix_user_presets_username</td>\n",
       "            <td>user_presets</td>\n",
       "            <td>7</td>\n",
       "            <td>CREATE UNIQUE INDEX ix_user_presets_username ON user_presets (username)</td>\n",
       "        </tr>\n",
       "        <tr>\n",
       "            <td>index</td>\n",
       "            <td>ix_user_presets_profilename</td>\n",
       "            <td>user_presets</td>\n",
       "            <td>8</td>\n",
       "            <td>CREATE UNIQUE INDEX ix_user_presets_profilename ON user_presets (profilename)</td>\n",
       "        </tr>\n",
       "        <tr>\n",
       "            <td>index</td>\n",
       "            <td>ix_user_presets_id</td>\n",
       "            <td>user_presets</td>\n",
       "            <td>5</td>\n",
       "            <td>CREATE INDEX ix_user_presets_id ON user_presets (id)</td>\n",
       "        </tr>\n",
       "    </tbody>\n",
       "</table>"
      ],
      "text/plain": [
       "[('table', 'users', 'users', 2, 'CREATE TABLE users (\\n\\tid INTEGER NOT NULL, \\n\\tusername VARCHAR, \\n\\tPRIMARY KEY (id)\\n)'),\n",
       " ('index', 'ix_users_username', 'users', 3, 'CREATE UNIQUE INDEX ix_users_username ON users (username)'),\n",
       " ('index', 'ix_users_id', 'users', 4, 'CREATE INDEX ix_users_id ON users (id)'),\n",
       " ('table', 'user_presets', 'user_presets', 6, 'CREATE TABLE user_presets (\\n\\tid INTEGER NOT NULL, \\n\\tusername VARCHAR, \\n\\tprofilename VARCHAR, \\n\\ttime_line VARCHAR, \\n\\tmedia_buyer VARCHAR, \\n\\tactiver_days INTEGER, \\n\\tcampaign VARCHAR, \\n\\tuser_id INTEGER, \\n\\tPRIMARY KEY (id), \\n\\tFOREIGN KEY(user_id) REFERENCES users (id)\\n)'),\n",
       " ('index', 'ix_user_presets_username', 'user_presets', 7, 'CREATE UNIQUE INDEX ix_user_presets_username ON user_presets (username)'),\n",
       " ('index', 'ix_user_presets_profilename', 'user_presets', 8, 'CREATE UNIQUE INDEX ix_user_presets_profilename ON user_presets (profilename)'),\n",
       " ('index', 'ix_user_presets_id', 'user_presets', 5, 'CREATE INDEX ix_user_presets_id ON user_presets (id)')]"
      ]
     },
     "execution_count": 25,
     "metadata": {},
     "output_type": "execute_result"
    }
   ],
   "source": [
    "%%sql\n",
    "SELECT * \n",
    "FROM sqlite_schema"
   ]
  },
  {
   "cell_type": "code",
   "execution_count": 26,
   "id": "4ff788d8-c4fa-4a07-8f31-6ea247e63c64",
   "metadata": {
    "tags": []
   },
   "outputs": [
    {
     "name": "stdout",
     "output_type": "stream",
     "text": [
      " * sqlite:///database/user_presets.db\n",
      "Done.\n"
     ]
    },
    {
     "data": {
      "text/html": [
       "<table>\n",
       "    <thead>\n",
       "        <tr>\n",
       "            <th>name</th>\n",
       "        </tr>\n",
       "    </thead>\n",
       "    <tbody>\n",
       "        <tr>\n",
       "            <td>users</td>\n",
       "        </tr>\n",
       "        <tr>\n",
       "            <td>user_presets</td>\n",
       "        </tr>\n",
       "    </tbody>\n",
       "</table>"
      ],
      "text/plain": [
       "[('users',), ('user_presets',)]"
      ]
     },
     "execution_count": 26,
     "metadata": {},
     "output_type": "execute_result"
    }
   ],
   "source": [
    "%%sql\n",
    "SELECT name\n",
    "FROM sqlite_schema\n",
    "WHERE type = \"table\""
   ]
  },
  {
   "cell_type": "code",
   "execution_count": 27,
   "id": "ffa12008-b9a4-4933-a9f3-74bc19b99fc8",
   "metadata": {
    "tags": []
   },
   "outputs": [
    {
     "name": "stdout",
     "output_type": "stream",
     "text": [
      " * sqlite:///database/user_presets.db\n",
      "Done.\n"
     ]
    },
    {
     "data": {
      "text/html": [
       "<table>\n",
       "    <thead>\n",
       "        <tr>\n",
       "            <th>id</th>\n",
       "            <th>username</th>\n",
       "        </tr>\n",
       "    </thead>\n",
       "    <tbody>\n",
       "    </tbody>\n",
       "</table>"
      ],
      "text/plain": [
       "[]"
      ]
     },
     "execution_count": 27,
     "metadata": {},
     "output_type": "execute_result"
    }
   ],
   "source": [
    "%%sql\n",
    "select *\n",
    "from users\n",
    ";"
   ]
  },
  {
   "cell_type": "code",
   "execution_count": 42,
   "id": "fa5b5710-1848-485a-9bc2-019b289482d4",
   "metadata": {
    "tags": []
   },
   "outputs": [
    {
     "name": "stdout",
     "output_type": "stream",
     "text": [
      " * sqlite:///database/user_presets.db\n",
      "Done.\n"
     ]
    },
    {
     "data": {
      "text/html": [
       "<table>\n",
       "    <thead>\n",
       "        <tr>\n",
       "            <th>id</th>\n",
       "            <th>username</th>\n",
       "            <th>profilename</th>\n",
       "            <th>time_line</th>\n",
       "            <th>media_buyer</th>\n",
       "            <th>activer_days</th>\n",
       "            <th>campaign</th>\n",
       "            <th>user_id</th>\n",
       "        </tr>\n",
       "    </thead>\n",
       "    <tbody>\n",
       "        <tr>\n",
       "            <td>1</td>\n",
       "            <td>None</td>\n",
       "            <td>LUKE_test_1</td>\n",
       "            <td>14 Days</td>\n",
       "            <td>Luke</td>\n",
       "            <td>15</td>\n",
       "            <td>LH_AppDev_DE_1101 #2524</td>\n",
       "            <td>None</td>\n",
       "        </tr>\n",
       "        <tr>\n",
       "            <td>2</td>\n",
       "            <td>None</td>\n",
       "            <td>LUKE_test_2</td>\n",
       "            <td>7 Days</td>\n",
       "            <td>Luke</td>\n",
       "            <td>15</td>\n",
       "            <td>LH_Aug17_RehabFacilities_VN_07cd</td>\n",
       "            <td>None</td>\n",
       "        </tr>\n",
       "        <tr>\n",
       "            <td>3</td>\n",
       "            <td>Luke</td>\n",
       "            <td>LUKE_test_3</td>\n",
       "            <td>Lifetime</td>\n",
       "            <td>Luke</td>\n",
       "            <td>14</td>\n",
       "            <td>B125_CosmeticSurgeryinMX_IN_0904</td>\n",
       "            <td>None</td>\n",
       "        </tr>\n",
       "    </tbody>\n",
       "</table>"
      ],
      "text/plain": [
       "[(1, None, 'LUKE_test_1', '14 Days', 'Luke', 15, 'LH_AppDev_DE_1101 #2524', None),\n",
       " (2, None, 'LUKE_test_2', '7 Days', 'Luke', 15, 'LH_Aug17_RehabFacilities_VN_07cd', None),\n",
       " (3, 'Luke', 'LUKE_test_3', 'Lifetime', 'Luke', 14, 'B125_CosmeticSurgeryinMX_IN_0904', None)]"
      ]
     },
     "execution_count": 42,
     "metadata": {},
     "output_type": "execute_result"
    }
   ],
   "source": [
    "%%sql\n",
    "select *\n",
    "from user_presets\n",
    ";"
   ]
  },
  {
   "cell_type": "code",
   "execution_count": 43,
   "id": "1f50cffa-a07c-4452-95e0-fe4d31e2a9b0",
   "metadata": {
    "tags": []
   },
   "outputs": [
    {
     "data": {
      "text/html": [
       "<div>\n",
       "<style scoped>\n",
       "    .dataframe tbody tr th:only-of-type {\n",
       "        vertical-align: middle;\n",
       "    }\n",
       "\n",
       "    .dataframe tbody tr th {\n",
       "        vertical-align: top;\n",
       "    }\n",
       "\n",
       "    .dataframe thead th {\n",
       "        text-align: right;\n",
       "    }\n",
       "</style>\n",
       "<table border=\"1\" class=\"dataframe\">\n",
       "  <thead>\n",
       "    <tr style=\"text-align: right;\">\n",
       "      <th></th>\n",
       "      <th>id</th>\n",
       "      <th>username</th>\n",
       "      <th>profilename</th>\n",
       "      <th>time_line</th>\n",
       "      <th>media_buyer</th>\n",
       "      <th>activer_days</th>\n",
       "      <th>campaign</th>\n",
       "      <th>user_id</th>\n",
       "    </tr>\n",
       "  </thead>\n",
       "  <tbody>\n",
       "    <tr>\n",
       "      <th>0</th>\n",
       "      <td>1</td>\n",
       "      <td>None</td>\n",
       "      <td>LUKE_test_1</td>\n",
       "      <td>14 Days</td>\n",
       "      <td>Luke</td>\n",
       "      <td>15</td>\n",
       "      <td>LH_AppDev_DE_1101 #2524</td>\n",
       "      <td>None</td>\n",
       "    </tr>\n",
       "    <tr>\n",
       "      <th>1</th>\n",
       "      <td>2</td>\n",
       "      <td>None</td>\n",
       "      <td>LUKE_test_2</td>\n",
       "      <td>7 Days</td>\n",
       "      <td>Luke</td>\n",
       "      <td>15</td>\n",
       "      <td>LH_Aug17_RehabFacilities_VN_07cd</td>\n",
       "      <td>None</td>\n",
       "    </tr>\n",
       "    <tr>\n",
       "      <th>2</th>\n",
       "      <td>3</td>\n",
       "      <td>Luke</td>\n",
       "      <td>LUKE_test_3</td>\n",
       "      <td>Lifetime</td>\n",
       "      <td>Luke</td>\n",
       "      <td>14</td>\n",
       "      <td>B125_CosmeticSurgeryinMX_IN_0904</td>\n",
       "      <td>None</td>\n",
       "    </tr>\n",
       "  </tbody>\n",
       "</table>\n",
       "</div>"
      ],
      "text/plain": [
       "   id username  profilename time_line media_buyer  activer_days  \\\n",
       "0   1     None  LUKE_test_1   14 Days        Luke            15   \n",
       "1   2     None  LUKE_test_2    7 Days        Luke            15   \n",
       "2   3     Luke  LUKE_test_3  Lifetime        Luke            14   \n",
       "\n",
       "                           campaign user_id  \n",
       "0           LH_AppDev_DE_1101 #2524    None  \n",
       "1  LH_Aug17_RehabFacilities_VN_07cd    None  \n",
       "2  B125_CosmeticSurgeryinMX_IN_0904    None  "
      ]
     },
     "execution_count": 43,
     "metadata": {},
     "output_type": "execute_result"
    }
   ],
   "source": [
    "engine = create_engine('sqlite:///database/user_presets.db')\n",
    "\n",
    "# Your SQL query\n",
    "query = \"SELECT * FROM user_presets\"\n",
    "\n",
    "# Execute the query and fetch the results into a Pandas DataFrame\n",
    "df = pd.read_sql_query(query, engine)\n",
    "df.head()"
   ]
  },
  {
   "cell_type": "code",
   "execution_count": 36,
   "id": "2ea4ec71-fba3-4303-9258-27c7afe89f7b",
   "metadata": {},
   "outputs": [],
   "source": [
    "from sqlalchemy import create_engine, Column, Integer, String, and_, ForeignKey\n",
    "from sqlalchemy.ext.declarative import declarative_base\n",
    "from sqlalchemy.orm import sessionmaker, relationship\n",
    "from sqlalchemy.orm.exc import NoResultFound"
   ]
  },
  {
   "cell_type": "code",
   "execution_count": 9,
   "id": "fc0a3847-411f-4169-8d2d-88c2d0dd0a3b",
   "metadata": {
    "tags": []
   },
   "outputs": [
    {
     "name": "stderr",
     "output_type": "stream",
     "text": [
      "/var/folders/_b/_rc6tjkn42n6t50xp7rhttps9db1hv/T/ipykernel_6610/2049283257.py:1: MovedIn20Warning: The ``declarative_base()`` function is now available as sqlalchemy.orm.declarative_base(). (deprecated since: 2.0) (Background on SQLAlchemy 2.0 at: https://sqlalche.me/e/b8d9)\n",
      "  Base = declarative_base()\n"
     ]
    }
   ],
   "source": [
    "Base = declarative_base()\n",
    "# class UserProfile(Base):\n",
    "#     \"\"\"\n",
    "#     Represents a user profile with personalized settings and presets.\n",
    "\n",
    "#     Attributes:\n",
    "#     - id (int): Unique identifier for the user profile.\n",
    "#     - username (str): Unique username associated with the user.\n",
    "#     - profilename (str): Unique name given to the user profile.\n",
    "#     - time_line (str): Timeline setting for the user profile.\n",
    "#     - media_buyer (str): Media buyer setting for the user profile.\n",
    "#     - activer_days (int): Number of active days setting for the user profile.\n",
    "#     - campaign (str): Campaign setting for the user profile.\n",
    "\n",
    "#     Table Name: 'user_presets'\n",
    "#     \"\"\"\n",
    "#     __tablename__ = 'user_presets'\n",
    "\n",
    "#     id = Column(Integer, primary_key=True, index=True)\n",
    "#     username = Column(String, index=True)\n",
    "#     profilename = Column(String, unique=True, index=True)\n",
    "#     time_line = Column(String)\n",
    "#     media_buyer = Column(String)\n",
    "#     activer_days = Column(Integer)\n",
    "#     campaign = Column(String)"
   ]
  },
  {
   "cell_type": "code",
   "execution_count": 10,
   "id": "f561d811-6c72-4f89-ae34-981ecbe5e718",
   "metadata": {
    "tags": []
   },
   "outputs": [],
   "source": [
    "class User(Base):\n",
    "    __tablename__ = 'users'\n",
    "\n",
    "    id = Column(Integer, primary_key=True, index=True)\n",
    "    username = Column(String, unique=True, index=True)\n",
    "    profiles = relationship('UserProfile', back_populates='user')\n",
    "\n",
    "class UserProfile(Base):\n",
    "    __tablename__ = 'user_presets'\n",
    "    # __table_args__ = {'extend_existing': True}\n",
    "    id = Column(Integer, primary_key=True, index=True)\n",
    "    profilename = Column(String, index=True, unique=True)  # Make the combination of username and profilename unique\n",
    "    time_line = Column(String)\n",
    "    media_buyer = Column(String)\n",
    "    activer_days = Column(Integer)\n",
    "    campaign = Column(String)\n",
    "    user_id = Column(Integer, ForeignKey('users.id'))\n",
    "    user = relationship('User', back_populates='profiles')"
   ]
  },
  {
   "cell_type": "code",
   "execution_count": 11,
   "id": "95f6fd4a-1dab-4d18-adf0-3a4b8b142e55",
   "metadata": {
    "tags": []
   },
   "outputs": [],
   "source": [
    "engine = create_engine('sqlite:///database/user_presets.db')\n",
    "Base.metadata.create_all(bind=engine)\n",
    "Session = sessionmaker(bind=engine)"
   ]
  },
  {
   "cell_type": "code",
   "execution_count": 12,
   "id": "01ff9c70-1280-4cc4-85da-b1de57f806ed",
   "metadata": {
    "tags": []
   },
   "outputs": [],
   "source": [
    "from sqlalchemy.orm import sessionmaker\n",
    "from sqlalchemy.exc import IntegrityError\n",
    "\n",
    "def save_settings(session, user_name, profile_name, settings):\n",
    "    \"\"\"\n",
    "    Save user profile settings to the database.\n",
    "\n",
    "    Parameters:\n",
    "    - session (Session): SQLAlchemy database session.\n",
    "    - user_name (str): Unique username associated with the user.\n",
    "    - profile_name (str): Unique name given to the user profile.\n",
    "    - settings (dict): Dictionary containing user profile settings.\n",
    "\n",
    "    Returns:\n",
    "    None\n",
    "    \"\"\"\n",
    "    try:\n",
    "        # Query the database for the user with the given username\n",
    "        user = session.query(User).filter_by(username=user_name).first()\n",
    "\n",
    "        if user:\n",
    "            # Check if a profile with the same name already exists for the user\n",
    "            existing_profile = session.query(UserProfile).filter_by(user=user, profilename=profile_name).first()\n",
    "\n",
    "            if existing_profile:\n",
    "                # Update the existing profile with the new settings\n",
    "                for key, value in settings.items():\n",
    "                    setattr(existing_profile, key, value)\n",
    "            else:\n",
    "                # Create a new UserProfile object with the provided parameters and settings\n",
    "                new_profile = UserProfile(profilename=profile_name, **settings)\n",
    "                # Append the new profile to the user's profiles\n",
    "                user.profiles.append(new_profile)\n",
    "\n",
    "            # Commit the changes to the database\n",
    "            session.commit()\n",
    "\n",
    "        else:\n",
    "            print(f\"User with username '{user_name}' not found.\")\n",
    "\n",
    "    except IntegrityError as e:\n",
    "        # Handle IntegrityError, e.g., log the error or notify the user\n",
    "        print(f\"Error: {e}\")\n",
    "        session.rollback()\n",
    "\n",
    "    except Exception as e:\n",
    "        # Handle other exceptions as needed\n",
    "        print(f\"Error: {e}\")\n",
    "        session.rollback()\n",
    "\n",
    "    finally:\n",
    "        # Close the session (if not using a context manager)\n",
    "        session.close()"
   ]
  },
  {
   "cell_type": "code",
   "execution_count": 13,
   "id": "816f1e2b-59f1-4ace-9d70-85d4bd3dc143",
   "metadata": {
    "tags": []
   },
   "outputs": [
    {
     "name": "stdout",
     "output_type": "stream",
     "text": [
      "User with username 'Luke' not found.\n"
     ]
    }
   ],
   "source": [
    "profile_name = \"Luke_test_2\"\n",
    "           \n",
    "user_name = \"Luke\"\n",
    "settings = {\n",
    "    \"time_line\": \"14 Days\",\n",
    "    \"media_buyer\": \"Luke\",\n",
    "    \"activer_days\":13,\n",
    "    \"campaign\": \"test_campaign\"\n",
    "}\n",
    "\n",
    "save_settings(Session(), user_name, profile_name, settings)\n"
   ]
  },
  {
   "cell_type": "code",
   "execution_count": 26,
   "id": "814c2035-5234-4fa8-8826-c7af503d7ca5",
   "metadata": {
    "tags": []
   },
   "outputs": [],
   "source": [
    "def save_settings(user_name, profile_name, settings):\n",
    "    \"\"\"\n",
    "    Save user profile settings to the database.\n",
    "\n",
    "    Parameters:\n",
    "    - user_name (str): Unique username associated with the user.\n",
    "    - profile_name (str): Unique name given to the user profile.\n",
    "    - settings (dict): Dictionary containing user profile settings.\n",
    "\n",
    "    Returns:\n",
    "    None\n",
    "    \"\"\"\n",
    "    # Create a new database session\n",
    "    session = Session()\n",
    "\n",
    "    # Create a new UserProfile object with the provided parameters and settings\n",
    "    user_profile_obj = UserProfile(username=user_name, profilename=profile_name, **settings)\n",
    "    \n",
    "    # Add the UserProfile object to the session\n",
    "    session.add(user_profile_obj)\n",
    "\n",
    "    # Commit the changes to the database\n",
    "    session.commit()\n",
    "\n",
    "    # Close the session\n",
    "    session.close()"
   ]
  },
  {
   "cell_type": "code",
   "execution_count": 44,
   "id": "8d8a0aea-354f-44df-a4df-33c8155058f4",
   "metadata": {
    "collapsed": true,
    "jupyter": {
     "outputs_hidden": true
    },
    "tags": []
   },
   "outputs": [
    {
     "ename": "TypeError",
     "evalue": "save_settings() missing 1 required positional argument: 'settings'",
     "output_type": "error",
     "traceback": [
      "\u001b[0;31m---------------------------------------------------------------------------\u001b[0m",
      "\u001b[0;31mTypeError\u001b[0m                                 Traceback (most recent call last)",
      "Cell \u001b[0;32mIn[44], line 11\u001b[0m\n\u001b[1;32m      3\u001b[0m user_name \u001b[38;5;241m=\u001b[39m \u001b[38;5;124m\"\u001b[39m\u001b[38;5;124mLuke\u001b[39m\u001b[38;5;124m\"\u001b[39m\n\u001b[1;32m      4\u001b[0m settings \u001b[38;5;241m=\u001b[39m {\n\u001b[1;32m      5\u001b[0m     \u001b[38;5;124m\"\u001b[39m\u001b[38;5;124mtime_line\u001b[39m\u001b[38;5;124m\"\u001b[39m: \u001b[38;5;124m\"\u001b[39m\u001b[38;5;124m14 Days\u001b[39m\u001b[38;5;124m\"\u001b[39m,\n\u001b[1;32m      6\u001b[0m     \u001b[38;5;124m\"\u001b[39m\u001b[38;5;124mmedia_buyer\u001b[39m\u001b[38;5;124m\"\u001b[39m: \u001b[38;5;124m\"\u001b[39m\u001b[38;5;124mLuke\u001b[39m\u001b[38;5;124m\"\u001b[39m,\n\u001b[1;32m      7\u001b[0m     \u001b[38;5;124m\"\u001b[39m\u001b[38;5;124mactiver_days\u001b[39m\u001b[38;5;124m\"\u001b[39m:\u001b[38;5;241m13\u001b[39m,\n\u001b[1;32m      8\u001b[0m     \u001b[38;5;124m\"\u001b[39m\u001b[38;5;124mcampaign\u001b[39m\u001b[38;5;124m\"\u001b[39m: \u001b[38;5;124m\"\u001b[39m\u001b[38;5;124mtest_campaign\u001b[39m\u001b[38;5;124m\"\u001b[39m\n\u001b[1;32m      9\u001b[0m }\n\u001b[0;32m---> 11\u001b[0m save_settings(user_name, profile_name, settings)\n",
      "\u001b[0;31mTypeError\u001b[0m: save_settings() missing 1 required positional argument: 'settings'"
     ]
    }
   ],
   "source": [
    "profile_name = \"Luke_test_2\"\n",
    "           \n",
    "user_name = \"Luke\"\n",
    "settings = {\n",
    "    \"time_line\": \"14 Days\",\n",
    "    \"media_buyer\": \"Luke\",\n",
    "    \"activer_days\":13,\n",
    "    \"campaign\": \"test_campaign\"\n",
    "}\n",
    "\n",
    "save_settings(user_name, profile_name, settings)\n"
   ]
  },
  {
   "cell_type": "code",
   "execution_count": 1,
   "metadata": {},
   "outputs": [],
   "source": [
    "import pandas as pd\n",
    "df = pd.read_csv(\"data_for_dash_full.csv\")"
   ]
  },
  {
   "cell_type": "code",
   "execution_count": 2,
   "metadata": {},
   "outputs": [
    {
     "data": {
      "text/html": [
       "<div>\n",
       "<style scoped>\n",
       "    .dataframe tbody tr th:only-of-type {\n",
       "        vertical-align: middle;\n",
       "    }\n",
       "\n",
       "    .dataframe tbody tr th {\n",
       "        vertical-align: top;\n",
       "    }\n",
       "\n",
       "    .dataframe thead th {\n",
       "        text-align: right;\n",
       "    }\n",
       "</style>\n",
       "<table border=\"1\" class=\"dataframe\">\n",
       "  <thead>\n",
       "    <tr style=\"text-align: right;\">\n",
       "      <th></th>\n",
       "      <th>ACTIVITY_DATE</th>\n",
       "      <th>MEDIA_BUYER</th>\n",
       "      <th>CAMPAIGN</th>\n",
       "      <th>SPEND</th>\n",
       "      <th>REVENUE</th>\n",
       "      <th>DAILY_PROFIT</th>\n",
       "      <th>TOTAL_PROFIT</th>\n",
       "      <th>DAILY_RETURN</th>\n",
       "      <th>TOTAL_RETURN</th>\n",
       "      <th>LANDER_ARRIVALS</th>\n",
       "      <th>SERP_ARRIVALS</th>\n",
       "      <th>AD_CLICKS</th>\n",
       "      <th>ACCEPTED_CLICKS</th>\n",
       "      <th>ACCEPTANCE_RATE</th>\n",
       "      <th>SPEND_PER_ARRIVAL</th>\n",
       "      <th>REVENUE_PER_ARRIVAL</th>\n",
       "      <th>PROFIT_PER_ARRIVAL</th>\n",
       "    </tr>\n",
       "  </thead>\n",
       "  <tbody>\n",
       "    <tr>\n",
       "      <th>0</th>\n",
       "      <td>2023-09-01</td>\n",
       "      <td>Luke</td>\n",
       "      <td>LH_HairTransplant_VT_0411</td>\n",
       "      <td>5.39</td>\n",
       "      <td>11.28</td>\n",
       "      <td>5.89</td>\n",
       "      <td>5.89</td>\n",
       "      <td>1.092764</td>\n",
       "      <td>1.092764</td>\n",
       "      <td>132</td>\n",
       "      <td>102</td>\n",
       "      <td>0</td>\n",
       "      <td>91.0</td>\n",
       "      <td>inf</td>\n",
       "      <td>0.040833</td>\n",
       "      <td>0.085455</td>\n",
       "      <td>0.044621</td>\n",
       "    </tr>\n",
       "    <tr>\n",
       "      <th>1</th>\n",
       "      <td>2023-09-02</td>\n",
       "      <td>Luke</td>\n",
       "      <td>LH_HairTransplant_VT_0411</td>\n",
       "      <td>8.97</td>\n",
       "      <td>14.09</td>\n",
       "      <td>5.12</td>\n",
       "      <td>11.01</td>\n",
       "      <td>0.570792</td>\n",
       "      <td>1.663556</td>\n",
       "      <td>192</td>\n",
       "      <td>129</td>\n",
       "      <td>0</td>\n",
       "      <td>100.0</td>\n",
       "      <td>inf</td>\n",
       "      <td>0.046719</td>\n",
       "      <td>0.073385</td>\n",
       "      <td>0.026667</td>\n",
       "    </tr>\n",
       "    <tr>\n",
       "      <th>2</th>\n",
       "      <td>2023-09-03</td>\n",
       "      <td>Luke</td>\n",
       "      <td>LH_HairTransplant_VT_0411</td>\n",
       "      <td>8.19</td>\n",
       "      <td>12.51</td>\n",
       "      <td>4.32</td>\n",
       "      <td>15.33</td>\n",
       "      <td>0.527473</td>\n",
       "      <td>2.191028</td>\n",
       "      <td>201</td>\n",
       "      <td>133</td>\n",
       "      <td>0</td>\n",
       "      <td>99.0</td>\n",
       "      <td>inf</td>\n",
       "      <td>0.040746</td>\n",
       "      <td>0.062239</td>\n",
       "      <td>0.021493</td>\n",
       "    </tr>\n",
       "    <tr>\n",
       "      <th>3</th>\n",
       "      <td>2023-09-04</td>\n",
       "      <td>Luke</td>\n",
       "      <td>LH_HairTransplant_VT_0411</td>\n",
       "      <td>6.07</td>\n",
       "      <td>11.47</td>\n",
       "      <td>5.40</td>\n",
       "      <td>20.73</td>\n",
       "      <td>0.889621</td>\n",
       "      <td>3.080650</td>\n",
       "      <td>164</td>\n",
       "      <td>108</td>\n",
       "      <td>0</td>\n",
       "      <td>80.0</td>\n",
       "      <td>inf</td>\n",
       "      <td>0.037012</td>\n",
       "      <td>0.069939</td>\n",
       "      <td>0.032927</td>\n",
       "    </tr>\n",
       "    <tr>\n",
       "      <th>4</th>\n",
       "      <td>2023-09-05</td>\n",
       "      <td>Luke</td>\n",
       "      <td>LH_HairTransplant_VT_0411</td>\n",
       "      <td>4.58</td>\n",
       "      <td>10.81</td>\n",
       "      <td>6.23</td>\n",
       "      <td>26.96</td>\n",
       "      <td>1.360262</td>\n",
       "      <td>4.440912</td>\n",
       "      <td>131</td>\n",
       "      <td>93</td>\n",
       "      <td>0</td>\n",
       "      <td>72.0</td>\n",
       "      <td>inf</td>\n",
       "      <td>0.034962</td>\n",
       "      <td>0.082519</td>\n",
       "      <td>0.047557</td>\n",
       "    </tr>\n",
       "  </tbody>\n",
       "</table>\n",
       "</div>"
      ],
      "text/plain": [
       "  ACTIVITY_DATE MEDIA_BUYER                    CAMPAIGN  SPEND  REVENUE  \\\n",
       "0    2023-09-01        Luke   LH_HairTransplant_VT_0411   5.39    11.28   \n",
       "1    2023-09-02        Luke   LH_HairTransplant_VT_0411   8.97    14.09   \n",
       "2    2023-09-03        Luke   LH_HairTransplant_VT_0411   8.19    12.51   \n",
       "3    2023-09-04        Luke   LH_HairTransplant_VT_0411   6.07    11.47   \n",
       "4    2023-09-05        Luke   LH_HairTransplant_VT_0411   4.58    10.81   \n",
       "\n",
       "   DAILY_PROFIT  TOTAL_PROFIT  DAILY_RETURN  TOTAL_RETURN  LANDER_ARRIVALS  \\\n",
       "0          5.89          5.89      1.092764      1.092764              132   \n",
       "1          5.12         11.01      0.570792      1.663556              192   \n",
       "2          4.32         15.33      0.527473      2.191028              201   \n",
       "3          5.40         20.73      0.889621      3.080650              164   \n",
       "4          6.23         26.96      1.360262      4.440912              131   \n",
       "\n",
       "   SERP_ARRIVALS  AD_CLICKS  ACCEPTED_CLICKS  ACCEPTANCE_RATE  \\\n",
       "0            102          0             91.0              inf   \n",
       "1            129          0            100.0              inf   \n",
       "2            133          0             99.0              inf   \n",
       "3            108          0             80.0              inf   \n",
       "4             93          0             72.0              inf   \n",
       "\n",
       "   SPEND_PER_ARRIVAL  REVENUE_PER_ARRIVAL  PROFIT_PER_ARRIVAL  \n",
       "0           0.040833             0.085455            0.044621  \n",
       "1           0.046719             0.073385            0.026667  \n",
       "2           0.040746             0.062239            0.021493  \n",
       "3           0.037012             0.069939            0.032927  \n",
       "4           0.034962             0.082519            0.047557  "
      ]
     },
     "execution_count": 2,
     "metadata": {},
     "output_type": "execute_result"
    }
   ],
   "source": [
    "df.head()"
   ]
  },
  {
   "cell_type": "code",
   "execution_count": null,
   "metadata": {},
   "outputs": [],
   "source": []
  }
 ],
 "metadata": {
  "kernelspec": {
   "display_name": "Python 3 (ipykernel)",
   "language": "python",
   "name": "python3"
  },
  "language_info": {
   "codemirror_mode": {
    "name": "ipython",
    "version": 3
   },
   "file_extension": ".py",
   "mimetype": "text/x-python",
   "name": "python",
   "nbconvert_exporter": "python",
   "pygments_lexer": "ipython3",
   "version": "3.11.5"
  },
  "widgets": {
   "application/vnd.jupyter.widget-state+json": {
    "state": {},
    "version_major": 2,
    "version_minor": 0
   }
  }
 },
 "nbformat": 4,
 "nbformat_minor": 5
}
