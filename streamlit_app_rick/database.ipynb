{
 "cells": [
  {
   "cell_type": "code",
   "execution_count": 12,
   "id": "80699aee-096f-431e-9f55-e20adfb5e6b8",
   "metadata": {
    "tags": []
   },
   "outputs": [],
   "source": [
    "import sqlite3\n",
    "import pandas as pd\n",
    "from sqlalchemy import create_engine, MetaData\n",
    "from sqlalchemy.ext.declarative import declarative_base\n",
    "from sqlalchemy.orm import sessionmaker\n",
    "from sqlalchemy import create_engine, Column, Integer, String, JSON, DateTime\n",
    "from datetime import timedelta, datetime"
   ]
  },
  {
   "cell_type": "code",
   "execution_count": 13,
   "id": "6b0e7da6-1909-499c-ac1a-a038eb3738ea",
   "metadata": {
    "tags": []
   },
   "outputs": [
    {
     "name": "stdout",
     "output_type": "stream",
     "text": [
      "The sql extension is already loaded. To reload it, use:\n",
      "  %reload_ext sql\n"
     ]
    }
   ],
   "source": [
    "%load_ext sql\n",
    "%sql sqlite:///database/user_presets.db"
   ]
  },
  {
   "cell_type": "code",
   "execution_count": 14,
   "id": "b4dd8b31-962d-4e66-b55a-31f87b889f51",
   "metadata": {
    "tags": []
   },
   "outputs": [
    {
     "name": "stdout",
     "output_type": "stream",
     "text": [
      " * sqlite:///database/user_presets.db\n",
      "Done.\n"
     ]
    },
    {
     "data": {
      "text/html": [
       "<table>\n",
       "    <thead>\n",
       "        <tr>\n",
       "            <th>type</th>\n",
       "            <th>name</th>\n",
       "            <th>tbl_name</th>\n",
       "            <th>rootpage</th>\n",
       "            <th>sql</th>\n",
       "        </tr>\n",
       "    </thead>\n",
       "    <tbody>\n",
       "        <tr>\n",
       "            <td>table</td>\n",
       "            <td>profiles</td>\n",
       "            <td>profiles</td>\n",
       "            <td>2</td>\n",
       "            <td>CREATE TABLE profiles (<br>\tid INTEGER NOT NULL, <br>\tuser_name VARCHAR, <br>\tprofile_name VARCHAR, <br>\tsettings JSON, <br>\t&quot;timestamp_UTC&quot; DATETIME, <br>\tPRIMARY KEY (id), <br>\tUNIQUE (id)<br>)</td>\n",
       "        </tr>\n",
       "        <tr>\n",
       "            <td>index</td>\n",
       "            <td>sqlite_autoindex_profiles_1</td>\n",
       "            <td>profiles</td>\n",
       "            <td>3</td>\n",
       "            <td>None</td>\n",
       "        </tr>\n",
       "    </tbody>\n",
       "</table>"
      ],
      "text/plain": [
       "[('table', 'profiles', 'profiles', 2, 'CREATE TABLE profiles (\\n\\tid INTEGER NOT NULL, \\n\\tuser_name VARCHAR, \\n\\tprofile_name VARCHAR, \\n\\tsettings JSON, \\n\\t\"timestamp_UTC\" DATETIME, \\n\\tPRIMARY KEY (id), \\n\\tUNIQUE (id)\\n)'),\n",
       " ('index', 'sqlite_autoindex_profiles_1', 'profiles', 3, None)]"
      ]
     },
     "execution_count": 14,
     "metadata": {},
     "output_type": "execute_result"
    }
   ],
   "source": [
    "%%sql\n",
    "SELECT * \n",
    "FROM sqlite_schema"
   ]
  },
  {
   "cell_type": "code",
   "execution_count": 15,
   "id": "4ff788d8-c4fa-4a07-8f31-6ea247e63c64",
   "metadata": {
    "tags": []
   },
   "outputs": [
    {
     "name": "stdout",
     "output_type": "stream",
     "text": [
      " * sqlite:///database/user_presets.db\n",
      "Done.\n"
     ]
    },
    {
     "data": {
      "text/html": [
       "<table>\n",
       "    <thead>\n",
       "        <tr>\n",
       "            <th>name</th>\n",
       "        </tr>\n",
       "    </thead>\n",
       "    <tbody>\n",
       "        <tr>\n",
       "            <td>profiles</td>\n",
       "        </tr>\n",
       "    </tbody>\n",
       "</table>"
      ],
      "text/plain": [
       "[('profiles',)]"
      ]
     },
     "execution_count": 15,
     "metadata": {},
     "output_type": "execute_result"
    }
   ],
   "source": [
    "%%sql\n",
    "SELECT name\n",
    "FROM sqlite_schema\n",
    "WHERE type = \"table\""
   ]
  },
  {
   "cell_type": "code",
   "execution_count": 16,
   "id": "ffa12008-b9a4-4933-a9f3-74bc19b99fc8",
   "metadata": {
    "tags": []
   },
   "outputs": [
    {
     "name": "stdout",
     "output_type": "stream",
     "text": [
      " * sqlite:///database/user_presets.db\n",
      "(sqlite3.OperationalError) no such table: users\n",
      "[SQL: select *\n",
      "from users\n",
      ";]\n",
      "(Background on this error at: https://sqlalche.me/e/20/e3q8)\n"
     ]
    }
   ],
   "source": [
    "%%sql\n",
    "select *\n",
    "from users\n",
    ";"
   ]
  },
  {
   "cell_type": "code",
   "execution_count": 17,
   "id": "fa5b5710-1848-485a-9bc2-019b289482d4",
   "metadata": {
    "tags": []
   },
   "outputs": [
    {
     "name": "stdout",
     "output_type": "stream",
     "text": [
      " * sqlite:///database/user_presets.db\n",
      "Done.\n"
     ]
    },
    {
     "data": {
      "text/html": [
       "<table>\n",
       "    <thead>\n",
       "        <tr>\n",
       "            <th>id</th>\n",
       "            <th>user_name</th>\n",
       "            <th>profile_name</th>\n",
       "            <th>settings</th>\n",
       "            <th>timestamp_UTC</th>\n",
       "        </tr>\n",
       "    </thead>\n",
       "    <tbody>\n",
       "        <tr>\n",
       "            <td>1</td>\n",
       "            <td>Luke</td>\n",
       "            <td>Luke_test_</td>\n",
       "            <td>{&quot;time_line&quot;: &quot;7 Days&quot;, &quot;start_date&quot;: &quot;2023-11-06 12:15:58.395009&quot;, &quot;end_date&quot;: &quot;2023-11-21 12:15:58.395009&quot;, &quot;media_buyer&quot;: &quot;Alice&quot;, &quot;active_days&quot;: 15, &quot;campaign&quot;: &quot;AP_Aug14_Lawyers_T3_NEW_WWBL&quot;}</td>\n",
       "            <td>2023-11-21 11:15:58.527492</td>\n",
       "        </tr>\n",
       "    </tbody>\n",
       "</table>"
      ],
      "text/plain": [
       "[(1, 'Luke', 'Luke_test_', '{\"time_line\": \"7 Days\", \"start_date\": \"2023-11-06 12:15:58.395009\", \"end_date\": \"2023-11-21 12:15:58.395009\", \"media_buyer\": \"Alice\", \"active_days\": 15, \"campaign\": \"AP_Aug14_Lawyers_T3_NEW_WWBL\"}', '2023-11-21 11:15:58.527492')]"
      ]
     },
     "execution_count": 17,
     "metadata": {},
     "output_type": "execute_result"
    }
   ],
   "source": [
    "%%sql\n",
    "select *\n",
    "from profiles\n",
    ";"
   ]
  },
  {
   "cell_type": "code",
   "execution_count": 56,
   "id": "1f50cffa-a07c-4452-95e0-fe4d31e2a9b0",
   "metadata": {
    "tags": []
   },
   "outputs": [
    {
     "data": {
      "text/plain": [
       "'{\"time_line\": \"Lifetime\", \"start_date\": \"2023-11-21 12:52:12.393743\", \"end_date\": \"2023-11-01 12:52:12.393743\", \"media_buyer\": \"Alice\", \"active_days\": 20, \"campaign\": \"AP_Aug14_Lawyers_T3_NEW_WWBL\"}'"
      ]
     },
     "execution_count": 56,
     "metadata": {},
     "output_type": "execute_result"
    }
   ],
   "source": [
    "engine = create_engine('sqlite:///database/user_presets.db')\n",
    "\n",
    "# Your SQL query\n",
    "query = \"SELECT * FROM profiles\"\n",
    "\n",
    "# Execute the query and fetch the results into a Pandas DataFrame\n",
    "df = pd.read_sql_query(query, engine)\n",
    "df[\"settings\"][9]"
   ]
  },
  {
   "cell_type": "code",
   "execution_count": 45,
   "id": "d5688a4e-59fd-4b4e-8629-caa677b416b7",
   "metadata": {
    "tags": []
   },
   "outputs": [
    {
     "name": "stderr",
     "output_type": "stream",
     "text": [
      "/var/folders/_b/_rc6tjkn42n6t50xp7rhttps9db1hv/T/ipykernel_5970/3076849795.py:1: MovedIn20Warning: The ``declarative_base()`` function is now available as sqlalchemy.orm.declarative_base(). (deprecated since: 2.0) (Background on SQLAlchemy 2.0 at: https://sqlalche.me/e/b8d9)\n",
      "  Base = declarative_base()\n"
     ]
    }
   ],
   "source": [
    "Base = declarative_base()\n",
    "class Profile(Base):\n",
    "    \"\"\"\n",
    "    SQLAlchemy model for the 'profiles' table.\n",
    "\n",
    "    Attributes:\n",
    "        id (int): Unique identifier for each profile.\n",
    "        user_name (str): User name associated with the profile.\n",
    "        profile_name (str): Name of the profile.\n",
    "        settings (dict): JSON representation of profile settings.\n",
    "        timestamp_UTC (datetime): Timestamp indicating when the profile was created (in UTC).\n",
    "\n",
    "    Note:\n",
    "        The 'timestamp_UTC' field is automatically populated with the current UTC time when a new profile is created.\n",
    "\n",
    "    Example:\n",
    "        To create a new profile instance:\n",
    "        >>> profile = Profile(user_name='JohnDoe', profile_name='Default', settings={'option1': True, 'option2': 'value'})\n",
    "    \"\"\"\n",
    "\n",
    "    __tablename__ = 'profiles'\n",
    "\n",
    "    id = Column(Integer, unique=True, primary_key=True)\n",
    "    user_name = Column(String)\n",
    "    profile_name = Column(String)\n",
    "    settings = Column(JSON)\n",
    "    timestamp_UTC = Column(DateTime, default=datetime.utcnow)  # Default to the current UTC time\n"
   ]
  },
  {
   "cell_type": "code",
   "execution_count": 46,
   "id": "4b942347-df5c-41dc-9402-31395888ed2d",
   "metadata": {
    "tags": []
   },
   "outputs": [],
   "source": [
    "# Create an SQLAlchemy engine with a SQLite database file named 'user_presets.db' in the 'database' folder\n",
    "engine = create_engine('sqlite:///database/user_presets.db')\n",
    "\n",
    "# Create the database tables defined in the Base class (assuming Base is a declarative_base())\n",
    "# and bind them to the engine\n",
    "# Base.metadata.create_all(bind=engine)\n",
    "\n",
    "# Create a Session class bound to the engine\n",
    "Session = sessionmaker(bind=engine)\n",
    "def load_profile(user_name):\n",
    "    session = Session()\n",
    "    # Query the database to retrieve all profiles for the specified user\n",
    "    profiles = session.query(Profile).filter_by(user_name=user_name).all()\n",
    "\n",
    "    # Create a list of dictionaries containing 'user_name', 'profile_name', 'settings', and 'timestamp_UTC' for each profile\n",
    "    profile_data = [\n",
    "        {\n",
    "            'user_name': user_name,\n",
    "            'profile_name': profile.profile_name,\n",
    "            'settings': profile.settings,\n",
    "            'timestamp_UTC': profile.timestamp_UTC\n",
    "        }\n",
    "        for profile in profiles\n",
    "    ]\n",
    "    \n",
    "    df = pd.DataFrame(profile_data)\n",
    "    return df "
   ]
  },
  {
   "cell_type": "code",
   "execution_count": 52,
   "id": "1d87db69-a0df-4a79-b8e2-72fdaeef8491",
   "metadata": {
    "tags": []
   },
   "outputs": [],
   "source": [
    "df = load_profile(user_name=\"Alice\")"
   ]
  },
  {
   "cell_type": "code",
   "execution_count": 53,
   "id": "2d3bf709-6271-4bbb-ae22-fc839d602c7a",
   "metadata": {
    "tags": []
   },
   "outputs": [
    {
     "data": {
      "text/html": [
       "<div>\n",
       "<style scoped>\n",
       "    .dataframe tbody tr th:only-of-type {\n",
       "        vertical-align: middle;\n",
       "    }\n",
       "\n",
       "    .dataframe tbody tr th {\n",
       "        vertical-align: top;\n",
       "    }\n",
       "\n",
       "    .dataframe thead th {\n",
       "        text-align: right;\n",
       "    }\n",
       "</style>\n",
       "<table border=\"1\" class=\"dataframe\">\n",
       "  <thead>\n",
       "    <tr style=\"text-align: right;\">\n",
       "      <th></th>\n",
       "      <th>user_name</th>\n",
       "      <th>profile_name</th>\n",
       "      <th>settings</th>\n",
       "      <th>timestamp_UTC</th>\n",
       "    </tr>\n",
       "  </thead>\n",
       "  <tbody>\n",
       "    <tr>\n",
       "      <th>0</th>\n",
       "      <td>Alice</td>\n",
       "      <td>Alice_test_</td>\n",
       "      <td>{'time_line': '7 Days', 'start_date': '2023-10...</td>\n",
       "      <td>2023-11-21 11:26:19.325723</td>\n",
       "    </tr>\n",
       "    <tr>\n",
       "      <th>1</th>\n",
       "      <td>Alice</td>\n",
       "      <td>Alice_test_2</td>\n",
       "      <td>{'time_line': '7 Days', 'start_date': '2023-10...</td>\n",
       "      <td>2023-11-21 11:32:52.580235</td>\n",
       "    </tr>\n",
       "  </tbody>\n",
       "</table>\n",
       "</div>"
      ],
      "text/plain": [
       "  user_name  profile_name                                           settings  \\\n",
       "0     Alice   Alice_test_  {'time_line': '7 Days', 'start_date': '2023-10...   \n",
       "1     Alice  Alice_test_2  {'time_line': '7 Days', 'start_date': '2023-10...   \n",
       "\n",
       "               timestamp_UTC  \n",
       "0 2023-11-21 11:26:19.325723  \n",
       "1 2023-11-21 11:32:52.580235  "
      ]
     },
     "execution_count": 53,
     "metadata": {},
     "output_type": "execute_result"
    }
   ],
   "source": [
    "df"
   ]
  },
  {
   "cell_type": "code",
   "execution_count": 35,
   "id": "ed03e34c-7140-45e7-9831-a4911366b220",
   "metadata": {
    "tags": []
   },
   "outputs": [],
   "source": [
    "saved_settings = df[(df[\"user_name\"]==\"Luke\") & (df[\"profile_name\"]==\"Luke_test_\")]['settings']"
   ]
  },
  {
   "cell_type": "code",
   "execution_count": 36,
   "id": "4c86b568-4d4e-489d-9292-4013b9a89d29",
   "metadata": {
    "tags": []
   },
   "outputs": [
    {
     "data": {
      "text/plain": [
       "{'time_line': '7 Days',\n",
       " 'start_date': '2023-11-06 12:15:58.395009',\n",
       " 'end_date': '2023-11-21 12:15:58.395009',\n",
       " 'media_buyer': 'Alice',\n",
       " 'active_days': 15,\n",
       " 'campaign': 'AP_Aug14_Lawyers_T3_NEW_WWBL'}"
      ]
     },
     "execution_count": 36,
     "metadata": {},
     "output_type": "execute_result"
    }
   ],
   "source": [
    "saved_settings.values[0]"
   ]
  },
  {
   "cell_type": "code",
   "execution_count": 38,
   "id": "9a733767-f506-4e76-b9fc-38b22e2917e1",
   "metadata": {
    "tags": []
   },
   "outputs": [
    {
     "data": {
      "text/plain": [
       "'2023/11/06'"
      ]
     },
     "execution_count": 38,
     "metadata": {},
     "output_type": "execute_result"
    }
   ],
   "source": [
    "result_dict = saved_settings.values[0]\n",
    "result_dict['start_date'].split(' ')[0].replace('-', '/')"
   ]
  },
  {
   "cell_type": "code",
   "execution_count": 39,
   "id": "8a13f3d9-0041-4a45-9755-8f617f605d13",
   "metadata": {
    "tags": []
   },
   "outputs": [],
   "source": [
    "# import json\n",
    "# result_dict = json.loads(saved_settings[0])\n",
    "\n",
    "# # Print the resulting dictionary\n",
    "# print(result_dict)"
   ]
  },
  {
   "cell_type": "code",
   "execution_count": 40,
   "id": "27b05702-b1c0-4ffc-803a-5bfa1c7876a6",
   "metadata": {
    "tags": []
   },
   "outputs": [
    {
     "data": {
      "text/plain": [
       "'7 Days'"
      ]
     },
     "execution_count": 40,
     "metadata": {},
     "output_type": "execute_result"
    }
   ],
   "source": [
    "result_dict[\"time_line\"]"
   ]
  },
  {
   "cell_type": "code",
   "execution_count": 41,
   "id": "bf04fdb0-c099-4410-b0cb-cb90d91e7c5c",
   "metadata": {
    "tags": []
   },
   "outputs": [
    {
     "data": {
      "text/plain": [
       "'Alice'"
      ]
     },
     "execution_count": 41,
     "metadata": {},
     "output_type": "execute_result"
    }
   ],
   "source": [
    "result_dict[\"media_buyer\"]"
   ]
  },
  {
   "cell_type": "code",
   "execution_count": 42,
   "id": "7aa72a5a-1a2e-4d65-82b0-179a166c8f2d",
   "metadata": {
    "tags": []
   },
   "outputs": [
    {
     "data": {
      "text/plain": [
       "15"
      ]
     },
     "execution_count": 42,
     "metadata": {},
     "output_type": "execute_result"
    }
   ],
   "source": [
    "result_dict['active_days']"
   ]
  },
  {
   "cell_type": "code",
   "execution_count": 43,
   "id": "b6a4e047-7bce-4444-9b14-896008e93004",
   "metadata": {
    "tags": []
   },
   "outputs": [
    {
     "data": {
      "text/plain": [
       "'AP_Aug14_Lawyers_T3_NEW_WWBL'"
      ]
     },
     "execution_count": 43,
     "metadata": {},
     "output_type": "execute_result"
    }
   ],
   "source": [
    "result_dict[\"campaign\"]"
   ]
  },
  {
   "cell_type": "code",
   "execution_count": null,
   "id": "139952e1-bd11-4846-8a73-1c0ac96c42d4",
   "metadata": {},
   "outputs": [],
   "source": []
  }
 ],
 "metadata": {
  "kernelspec": {
   "display_name": "Python 3 (ipykernel)",
   "language": "python",
   "name": "python3"
  },
  "language_info": {
   "codemirror_mode": {
    "name": "ipython",
    "version": 3
   },
   "file_extension": ".py",
   "mimetype": "text/x-python",
   "name": "python",
   "nbconvert_exporter": "python",
   "pygments_lexer": "ipython3",
   "version": "3.11.5"
  },
  "widgets": {
   "application/vnd.jupyter.widget-state+json": {
    "state": {},
    "version_major": 2,
    "version_minor": 0
   }
  }
 },
 "nbformat": 4,
 "nbformat_minor": 5
}
