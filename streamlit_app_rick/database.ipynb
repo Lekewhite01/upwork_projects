{
 "cells": [
  {
   "cell_type": "code",
   "execution_count": 11,
   "id": "80699aee-096f-431e-9f55-e20adfb5e6b8",
   "metadata": {
    "tags": []
   },
   "outputs": [],
   "source": [
    "import sqlite3\n",
    "import pandas as pd\n",
    "from sqlalchemy import create_engine"
   ]
  },
  {
   "cell_type": "code",
   "execution_count": 7,
   "id": "6b0e7da6-1909-499c-ac1a-a038eb3738ea",
   "metadata": {
    "tags": []
   },
   "outputs": [
    {
     "name": "stdout",
     "output_type": "stream",
     "text": [
      "The sql extension is already loaded. To reload it, use:\n",
      "  %reload_ext sql\n"
     ]
    }
   ],
   "source": [
    "%load_ext sql\n",
    "%sql sqlite:///database/user_presets.db"
   ]
  },
  {
   "cell_type": "code",
   "execution_count": 8,
   "id": "b4dd8b31-962d-4e66-b55a-31f87b889f51",
   "metadata": {
    "tags": []
   },
   "outputs": [
    {
     "name": "stdout",
     "output_type": "stream",
     "text": [
      " * sqlite:///database/user_presets.db\n",
      "Done.\n"
     ]
    },
    {
     "data": {
      "text/html": [
       "<table>\n",
       "    <thead>\n",
       "        <tr>\n",
       "            <th>type</th>\n",
       "            <th>name</th>\n",
       "            <th>tbl_name</th>\n",
       "            <th>rootpage</th>\n",
       "            <th>sql</th>\n",
       "        </tr>\n",
       "    </thead>\n",
       "    <tbody>\n",
       "        <tr>\n",
       "            <td>table</td>\n",
       "            <td>user_presets</td>\n",
       "            <td>user_presets</td>\n",
       "            <td>2</td>\n",
       "            <td>CREATE TABLE user_presets (<br>\tid INTEGER NOT NULL, <br>\tusername VARCHAR, <br>\tprofilename VARCHAR, <br>\ttime_line VARCHAR, <br>\tmedia_buyer VARCHAR, <br>\tactiver_days INTEGER, <br>\tcampaign VARCHAR, <br>\tPRIMARY KEY (id)<br>)</td>\n",
       "        </tr>\n",
       "        <tr>\n",
       "            <td>index</td>\n",
       "            <td>ix_user_presets_username</td>\n",
       "            <td>user_presets</td>\n",
       "            <td>3</td>\n",
       "            <td>CREATE UNIQUE INDEX ix_user_presets_username ON user_presets (username)</td>\n",
       "        </tr>\n",
       "        <tr>\n",
       "            <td>index</td>\n",
       "            <td>ix_user_presets_id</td>\n",
       "            <td>user_presets</td>\n",
       "            <td>4</td>\n",
       "            <td>CREATE INDEX ix_user_presets_id ON user_presets (id)</td>\n",
       "        </tr>\n",
       "        <tr>\n",
       "            <td>index</td>\n",
       "            <td>ix_user_presets_profilename</td>\n",
       "            <td>user_presets</td>\n",
       "            <td>5</td>\n",
       "            <td>CREATE UNIQUE INDEX ix_user_presets_profilename ON user_presets (profilename)</td>\n",
       "        </tr>\n",
       "    </tbody>\n",
       "</table>"
      ],
      "text/plain": [
       "[('table', 'user_presets', 'user_presets', 2, 'CREATE TABLE user_presets (\\n\\tid INTEGER NOT NULL, \\n\\tusername VARCHAR, \\n\\tprofilename VARCHAR, \\n\\ttime_line VARCHAR, \\n\\tmedia_buyer VARCHAR, \\n\\tactiver_days INTEGER, \\n\\tcampaign VARCHAR, \\n\\tPRIMARY KEY (id)\\n)'),\n",
       " ('index', 'ix_user_presets_username', 'user_presets', 3, 'CREATE UNIQUE INDEX ix_user_presets_username ON user_presets (username)'),\n",
       " ('index', 'ix_user_presets_id', 'user_presets', 4, 'CREATE INDEX ix_user_presets_id ON user_presets (id)'),\n",
       " ('index', 'ix_user_presets_profilename', 'user_presets', 5, 'CREATE UNIQUE INDEX ix_user_presets_profilename ON user_presets (profilename)')]"
      ]
     },
     "execution_count": 8,
     "metadata": {},
     "output_type": "execute_result"
    }
   ],
   "source": [
    "%%sql\n",
    "SELECT * \n",
    "FROM sqlite_schema"
   ]
  },
  {
   "cell_type": "code",
   "execution_count": 9,
   "id": "4ff788d8-c4fa-4a07-8f31-6ea247e63c64",
   "metadata": {
    "tags": []
   },
   "outputs": [
    {
     "name": "stdout",
     "output_type": "stream",
     "text": [
      " * sqlite:///database/user_presets.db\n",
      "Done.\n"
     ]
    },
    {
     "data": {
      "text/html": [
       "<table>\n",
       "    <thead>\n",
       "        <tr>\n",
       "            <th>name</th>\n",
       "        </tr>\n",
       "    </thead>\n",
       "    <tbody>\n",
       "        <tr>\n",
       "            <td>user_presets</td>\n",
       "        </tr>\n",
       "    </tbody>\n",
       "</table>"
      ],
      "text/plain": [
       "[('user_presets',)]"
      ]
     },
     "execution_count": 9,
     "metadata": {},
     "output_type": "execute_result"
    }
   ],
   "source": [
    "%%sql\n",
    "SELECT name\n",
    "FROM sqlite_schema\n",
    "WHERE type = \"table\""
   ]
  },
  {
   "cell_type": "code",
   "execution_count": 15,
   "id": "fa5b5710-1848-485a-9bc2-019b289482d4",
   "metadata": {
    "tags": []
   },
   "outputs": [
    {
     "name": "stdout",
     "output_type": "stream",
     "text": [
      " * sqlite:///database/user_presets.db\n",
      "Done.\n"
     ]
    },
    {
     "data": {
      "text/html": [
       "<table>\n",
       "    <thead>\n",
       "        <tr>\n",
       "            <th>id</th>\n",
       "            <th>username</th>\n",
       "            <th>profilename</th>\n",
       "            <th>time_line</th>\n",
       "            <th>media_buyer</th>\n",
       "            <th>activer_days</th>\n",
       "            <th>campaign</th>\n",
       "        </tr>\n",
       "    </thead>\n",
       "    <tbody>\n",
       "        <tr>\n",
       "            <td>1</td>\n",
       "            <td>lekewhite</td>\n",
       "            <td>Leke_test</td>\n",
       "            <td>7 Days</td>\n",
       "            <td>Tom</td>\n",
       "            <td>15</td>\n",
       "            <td>TG_Accounting_Software_BR_Open_0421</td>\n",
       "        </tr>\n",
       "    </tbody>\n",
       "</table>"
      ],
      "text/plain": [
       "[(1, 'lekewhite', 'Leke_test', '7 Days', 'Tom', 15, 'TG_Accounting_Software_BR_Open_0421')]"
      ]
     },
     "execution_count": 15,
     "metadata": {},
     "output_type": "execute_result"
    }
   ],
   "source": [
    "%%sql\n",
    "select *\n",
    "from user_presets\n",
    ";"
   ]
  },
  {
   "cell_type": "code",
   "execution_count": 30,
   "id": "1f50cffa-a07c-4452-95e0-fe4d31e2a9b0",
   "metadata": {
    "tags": []
   },
   "outputs": [],
   "source": [
    "engine = create_engine('sqlite:///database/user_presets.db')\n",
    "\n",
    "# Your SQL query\n",
    "query = \"SELECT * FROM user_presets\"\n",
    "\n",
    "# Execute the query and fetch the results into a Pandas DataFrame\n",
    "df = pd.read_sql_query(query, engine)"
   ]
  },
  {
   "cell_type": "code",
   "execution_count": 31,
   "id": "442b5538-6b5c-4c2a-acf8-93c32d3c6f16",
   "metadata": {
    "tags": []
   },
   "outputs": [
    {
     "data": {
      "text/html": [
       "<div>\n",
       "<style scoped>\n",
       "    .dataframe tbody tr th:only-of-type {\n",
       "        vertical-align: middle;\n",
       "    }\n",
       "\n",
       "    .dataframe tbody tr th {\n",
       "        vertical-align: top;\n",
       "    }\n",
       "\n",
       "    .dataframe thead th {\n",
       "        text-align: right;\n",
       "    }\n",
       "</style>\n",
       "<table border=\"1\" class=\"dataframe\">\n",
       "  <thead>\n",
       "    <tr style=\"text-align: right;\">\n",
       "      <th></th>\n",
       "      <th>id</th>\n",
       "      <th>username</th>\n",
       "      <th>profilename</th>\n",
       "      <th>time_line</th>\n",
       "      <th>media_buyer</th>\n",
       "      <th>activer_days</th>\n",
       "      <th>campaign</th>\n",
       "    </tr>\n",
       "  </thead>\n",
       "  <tbody>\n",
       "    <tr>\n",
       "      <th>0</th>\n",
       "      <td>1</td>\n",
       "      <td>lekewhite</td>\n",
       "      <td>Leke_test</td>\n",
       "      <td>7 Days</td>\n",
       "      <td>Tom</td>\n",
       "      <td>15</td>\n",
       "      <td>TG_Accounting_Software_BR_Open_0421</td>\n",
       "    </tr>\n",
       "    <tr>\n",
       "      <th>1</th>\n",
       "      <td>2</td>\n",
       "      <td>Tom</td>\n",
       "      <td>TOM_test</td>\n",
       "      <td>7 Days</td>\n",
       "      <td>Tom</td>\n",
       "      <td>15</td>\n",
       "      <td>TG_Accounting_Software_BR_Open_0421</td>\n",
       "    </tr>\n",
       "    <tr>\n",
       "      <th>2</th>\n",
       "      <td>3</td>\n",
       "      <td>Luke</td>\n",
       "      <td>LUKE_test</td>\n",
       "      <td>Lifetime</td>\n",
       "      <td>Luke</td>\n",
       "      <td>13</td>\n",
       "      <td>B125_CosmeticSurgeryinMX_IN_0904</td>\n",
       "    </tr>\n",
       "    <tr>\n",
       "      <th>3</th>\n",
       "      <td>4</td>\n",
       "      <td>Alice</td>\n",
       "      <td>ALICE_test</td>\n",
       "      <td>Lifetime</td>\n",
       "      <td>Luke</td>\n",
       "      <td>12</td>\n",
       "      <td>B125_CosmeticSurgeryinMX_IN_0904</td>\n",
       "    </tr>\n",
       "  </tbody>\n",
       "</table>\n",
       "</div>"
      ],
      "text/plain": [
       "   id   username profilename time_line media_buyer  activer_days  \\\n",
       "0   1  lekewhite   Leke_test    7 Days         Tom            15   \n",
       "1   2        Tom    TOM_test    7 Days         Tom            15   \n",
       "2   3       Luke   LUKE_test  Lifetime        Luke            13   \n",
       "3   4      Alice  ALICE_test  Lifetime        Luke            12   \n",
       "\n",
       "                              campaign  \n",
       "0  TG_Accounting_Software_BR_Open_0421  \n",
       "1  TG_Accounting_Software_BR_Open_0421  \n",
       "2     B125_CosmeticSurgeryinMX_IN_0904  \n",
       "3     B125_CosmeticSurgeryinMX_IN_0904  "
      ]
     },
     "execution_count": 31,
     "metadata": {},
     "output_type": "execute_result"
    }
   ],
   "source": [
    "df.head()"
   ]
  },
  {
   "cell_type": "code",
   "execution_count": null,
   "id": "2ea4ec71-fba3-4303-9258-27c7afe89f7b",
   "metadata": {},
   "outputs": [],
   "source": []
  }
 ],
 "metadata": {
  "kernelspec": {
   "display_name": "Python 3 (ipykernel)",
   "language": "python",
   "name": "python3"
  },
  "language_info": {
   "codemirror_mode": {
    "name": "ipython",
    "version": 3
   },
   "file_extension": ".py",
   "mimetype": "text/x-python",
   "name": "python",
   "nbconvert_exporter": "python",
   "pygments_lexer": "ipython3",
   "version": "3.11.5"
  },
  "widgets": {
   "application/vnd.jupyter.widget-state+json": {
    "state": {},
    "version_major": 2,
    "version_minor": 0
   }
  }
 },
 "nbformat": 4,
 "nbformat_minor": 5
}
