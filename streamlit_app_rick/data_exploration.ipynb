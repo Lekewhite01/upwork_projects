{
 "cells": [
  {
   "cell_type": "code",
   "execution_count": 11,
   "id": "a70188dc-7070-4e3b-a137-36736d7f167e",
   "metadata": {
    "tags": []
   },
   "outputs": [],
   "source": [
    "# ! pip install matplotlib"
   ]
  },
  {
   "cell_type": "code",
   "execution_count": 1,
   "id": "c3d4f976-da7a-4261-89e5-5066a9d0cc43",
   "metadata": {
    "tags": []
   },
   "outputs": [],
   "source": [
    "import pandas as pd\n",
    "import numpy as np\n",
    "import matplotlib.pyplot as plt\n",
    "import warnings\n",
    "import plotly.express as px\n",
    "warnings.filterwarnings('ignore')\n",
    "# % matplotlib inline"
   ]
  },
  {
   "cell_type": "code",
   "execution_count": 2,
   "id": "b569f953-3beb-4e6e-a66e-a24757d8c8e4",
   "metadata": {
    "tags": []
   },
   "outputs": [],
   "source": [
    "df_test = pd.read_csv(\"data_for_dash.csv\")\n",
    "df_full = pd.read_csv(\"data_for_dash_full.csv\")"
   ]
  },
  {
   "cell_type": "code",
   "execution_count": 3,
   "id": "d4929e23-088f-4436-841a-315ca40a4dd4",
   "metadata": {
    "tags": []
   },
   "outputs": [
    {
     "data": {
      "text/html": [
       "<div>\n",
       "<style scoped>\n",
       "    .dataframe tbody tr th:only-of-type {\n",
       "        vertical-align: middle;\n",
       "    }\n",
       "\n",
       "    .dataframe tbody tr th {\n",
       "        vertical-align: top;\n",
       "    }\n",
       "\n",
       "    .dataframe thead th {\n",
       "        text-align: right;\n",
       "    }\n",
       "</style>\n",
       "<table border=\"1\" class=\"dataframe\">\n",
       "  <thead>\n",
       "    <tr style=\"text-align: right;\">\n",
       "      <th></th>\n",
       "      <th>ACTIVITY_DATE</th>\n",
       "      <th>MEDIA_BUYER</th>\n",
       "      <th>CAMPAIGN</th>\n",
       "      <th>SPEND</th>\n",
       "      <th>REVENUE</th>\n",
       "      <th>DAILY_PROFIT</th>\n",
       "      <th>TOTAL_PROFIT</th>\n",
       "      <th>DAILY_RETURN</th>\n",
       "      <th>TOTAL_RETURN</th>\n",
       "      <th>LANDER_ARRIVALS</th>\n",
       "      <th>SERP_ARRIVALS</th>\n",
       "      <th>AD_CLICKS</th>\n",
       "      <th>ACCEPTED_CLICKS</th>\n",
       "      <th>ACCEPTANCE_RATE</th>\n",
       "      <th>SPEND_PER_ARRIVAL</th>\n",
       "      <th>REVENUE_PER_ARRIVAL</th>\n",
       "      <th>PROFIT_PER_ARRIVAL</th>\n",
       "    </tr>\n",
       "  </thead>\n",
       "  <tbody>\n",
       "    <tr>\n",
       "      <th>0</th>\n",
       "      <td>2023-11-01</td>\n",
       "      <td>Tom</td>\n",
       "      <td>TG_Oct3_Thai_Vacation_packages_BL</td>\n",
       "      <td>103.0896</td>\n",
       "      <td>74.13</td>\n",
       "      <td>-28.9596</td>\n",
       "      <td>-28.9596</td>\n",
       "      <td>-0.280917</td>\n",
       "      <td>-0.280917</td>\n",
       "      <td>12814</td>\n",
       "      <td>3685</td>\n",
       "      <td>3692</td>\n",
       "      <td>1997.0</td>\n",
       "      <td>0.540899</td>\n",
       "      <td>0.008045</td>\n",
       "      <td>0.005785</td>\n",
       "      <td>-0.002260</td>\n",
       "    </tr>\n",
       "    <tr>\n",
       "      <th>1</th>\n",
       "      <td>2023-11-02</td>\n",
       "      <td>Tom</td>\n",
       "      <td>TG_Oct3_Thai_Vacation_packages_BL</td>\n",
       "      <td>100.5130</td>\n",
       "      <td>80.29</td>\n",
       "      <td>-20.2230</td>\n",
       "      <td>-49.1826</td>\n",
       "      <td>-0.201198</td>\n",
       "      <td>-0.482115</td>\n",
       "      <td>15175</td>\n",
       "      <td>4144</td>\n",
       "      <td>3668</td>\n",
       "      <td>2155.0</td>\n",
       "      <td>0.587514</td>\n",
       "      <td>0.006624</td>\n",
       "      <td>0.005291</td>\n",
       "      <td>-0.001333</td>\n",
       "    </tr>\n",
       "    <tr>\n",
       "      <th>2</th>\n",
       "      <td>2023-11-03</td>\n",
       "      <td>Tom</td>\n",
       "      <td>TG_Oct3_Thai_Vacation_packages_BL</td>\n",
       "      <td>100.8974</td>\n",
       "      <td>82.45</td>\n",
       "      <td>-18.4474</td>\n",
       "      <td>-67.6300</td>\n",
       "      <td>-0.182833</td>\n",
       "      <td>-0.664948</td>\n",
       "      <td>16191</td>\n",
       "      <td>3968</td>\n",
       "      <td>3677</td>\n",
       "      <td>2030.0</td>\n",
       "      <td>0.552081</td>\n",
       "      <td>0.006232</td>\n",
       "      <td>0.005092</td>\n",
       "      <td>-0.001139</td>\n",
       "    </tr>\n",
       "    <tr>\n",
       "      <th>3</th>\n",
       "      <td>2023-11-04</td>\n",
       "      <td>Tom</td>\n",
       "      <td>TG_Oct3_Thai_Vacation_packages_BL</td>\n",
       "      <td>99.7021</td>\n",
       "      <td>73.65</td>\n",
       "      <td>-26.0521</td>\n",
       "      <td>-93.6821</td>\n",
       "      <td>-0.261299</td>\n",
       "      <td>-0.926247</td>\n",
       "      <td>12711</td>\n",
       "      <td>3598</td>\n",
       "      <td>4722</td>\n",
       "      <td>2006.0</td>\n",
       "      <td>0.424820</td>\n",
       "      <td>0.007844</td>\n",
       "      <td>0.005794</td>\n",
       "      <td>-0.002050</td>\n",
       "    </tr>\n",
       "    <tr>\n",
       "      <th>4</th>\n",
       "      <td>2023-11-05</td>\n",
       "      <td>Tom</td>\n",
       "      <td>TG_Oct3_Thai_Vacation_packages_BL</td>\n",
       "      <td>99.9932</td>\n",
       "      <td>71.87</td>\n",
       "      <td>-28.1232</td>\n",
       "      <td>-121.8053</td>\n",
       "      <td>-0.281251</td>\n",
       "      <td>-1.207498</td>\n",
       "      <td>13937</td>\n",
       "      <td>3791</td>\n",
       "      <td>4304</td>\n",
       "      <td>1867.0</td>\n",
       "      <td>0.433783</td>\n",
       "      <td>0.007175</td>\n",
       "      <td>0.005157</td>\n",
       "      <td>-0.002018</td>\n",
       "    </tr>\n",
       "  </tbody>\n",
       "</table>\n",
       "</div>"
      ],
      "text/plain": [
       "  ACTIVITY_DATE MEDIA_BUYER                           CAMPAIGN     SPEND  \\\n",
       "0    2023-11-01         Tom  TG_Oct3_Thai_Vacation_packages_BL  103.0896   \n",
       "1    2023-11-02         Tom  TG_Oct3_Thai_Vacation_packages_BL  100.5130   \n",
       "2    2023-11-03         Tom  TG_Oct3_Thai_Vacation_packages_BL  100.8974   \n",
       "3    2023-11-04         Tom  TG_Oct3_Thai_Vacation_packages_BL   99.7021   \n",
       "4    2023-11-05         Tom  TG_Oct3_Thai_Vacation_packages_BL   99.9932   \n",
       "\n",
       "   REVENUE  DAILY_PROFIT  TOTAL_PROFIT  DAILY_RETURN  TOTAL_RETURN  \\\n",
       "0    74.13      -28.9596      -28.9596     -0.280917     -0.280917   \n",
       "1    80.29      -20.2230      -49.1826     -0.201198     -0.482115   \n",
       "2    82.45      -18.4474      -67.6300     -0.182833     -0.664948   \n",
       "3    73.65      -26.0521      -93.6821     -0.261299     -0.926247   \n",
       "4    71.87      -28.1232     -121.8053     -0.281251     -1.207498   \n",
       "\n",
       "   LANDER_ARRIVALS  SERP_ARRIVALS  AD_CLICKS  ACCEPTED_CLICKS  \\\n",
       "0            12814           3685       3692           1997.0   \n",
       "1            15175           4144       3668           2155.0   \n",
       "2            16191           3968       3677           2030.0   \n",
       "3            12711           3598       4722           2006.0   \n",
       "4            13937           3791       4304           1867.0   \n",
       "\n",
       "   ACCEPTANCE_RATE  SPEND_PER_ARRIVAL  REVENUE_PER_ARRIVAL  PROFIT_PER_ARRIVAL  \n",
       "0         0.540899           0.008045             0.005785           -0.002260  \n",
       "1         0.587514           0.006624             0.005291           -0.001333  \n",
       "2         0.552081           0.006232             0.005092           -0.001139  \n",
       "3         0.424820           0.007844             0.005794           -0.002050  \n",
       "4         0.433783           0.007175             0.005157           -0.002018  "
      ]
     },
     "execution_count": 3,
     "metadata": {},
     "output_type": "execute_result"
    }
   ],
   "source": [
    "df_test.head()"
   ]
  },
  {
   "cell_type": "code",
   "execution_count": 4,
   "id": "a7be30f9-8216-4cd4-a40f-9209fb6d3445",
   "metadata": {
    "tags": []
   },
   "outputs": [
    {
     "data": {
      "text/html": [
       "<div>\n",
       "<style scoped>\n",
       "    .dataframe tbody tr th:only-of-type {\n",
       "        vertical-align: middle;\n",
       "    }\n",
       "\n",
       "    .dataframe tbody tr th {\n",
       "        vertical-align: top;\n",
       "    }\n",
       "\n",
       "    .dataframe thead th {\n",
       "        text-align: right;\n",
       "    }\n",
       "</style>\n",
       "<table border=\"1\" class=\"dataframe\">\n",
       "  <thead>\n",
       "    <tr style=\"text-align: right;\">\n",
       "      <th></th>\n",
       "      <th>ACTIVITY_DATE</th>\n",
       "      <th>MEDIA_BUYER</th>\n",
       "      <th>CAMPAIGN</th>\n",
       "      <th>SPEND</th>\n",
       "      <th>REVENUE</th>\n",
       "      <th>DAILY_PROFIT</th>\n",
       "      <th>TOTAL_PROFIT</th>\n",
       "      <th>DAILY_RETURN</th>\n",
       "      <th>TOTAL_RETURN</th>\n",
       "      <th>LANDER_ARRIVALS</th>\n",
       "      <th>SERP_ARRIVALS</th>\n",
       "      <th>AD_CLICKS</th>\n",
       "      <th>ACCEPTED_CLICKS</th>\n",
       "      <th>ACCEPTANCE_RATE</th>\n",
       "      <th>SPEND_PER_ARRIVAL</th>\n",
       "      <th>REVENUE_PER_ARRIVAL</th>\n",
       "      <th>PROFIT_PER_ARRIVAL</th>\n",
       "    </tr>\n",
       "  </thead>\n",
       "  <tbody>\n",
       "    <tr>\n",
       "      <th>0</th>\n",
       "      <td>2023-09-01</td>\n",
       "      <td>Luke</td>\n",
       "      <td>LH_HairTransplant_VT_0411</td>\n",
       "      <td>5.39</td>\n",
       "      <td>11.28</td>\n",
       "      <td>5.89</td>\n",
       "      <td>5.89</td>\n",
       "      <td>1.092764</td>\n",
       "      <td>1.092764</td>\n",
       "      <td>132</td>\n",
       "      <td>102</td>\n",
       "      <td>0</td>\n",
       "      <td>91.0</td>\n",
       "      <td>inf</td>\n",
       "      <td>0.040833</td>\n",
       "      <td>0.085455</td>\n",
       "      <td>0.044621</td>\n",
       "    </tr>\n",
       "    <tr>\n",
       "      <th>1</th>\n",
       "      <td>2023-09-02</td>\n",
       "      <td>Luke</td>\n",
       "      <td>LH_HairTransplant_VT_0411</td>\n",
       "      <td>8.97</td>\n",
       "      <td>14.09</td>\n",
       "      <td>5.12</td>\n",
       "      <td>11.01</td>\n",
       "      <td>0.570792</td>\n",
       "      <td>1.663556</td>\n",
       "      <td>192</td>\n",
       "      <td>129</td>\n",
       "      <td>0</td>\n",
       "      <td>100.0</td>\n",
       "      <td>inf</td>\n",
       "      <td>0.046719</td>\n",
       "      <td>0.073385</td>\n",
       "      <td>0.026667</td>\n",
       "    </tr>\n",
       "    <tr>\n",
       "      <th>2</th>\n",
       "      <td>2023-09-03</td>\n",
       "      <td>Luke</td>\n",
       "      <td>LH_HairTransplant_VT_0411</td>\n",
       "      <td>8.19</td>\n",
       "      <td>12.51</td>\n",
       "      <td>4.32</td>\n",
       "      <td>15.33</td>\n",
       "      <td>0.527473</td>\n",
       "      <td>2.191028</td>\n",
       "      <td>201</td>\n",
       "      <td>133</td>\n",
       "      <td>0</td>\n",
       "      <td>99.0</td>\n",
       "      <td>inf</td>\n",
       "      <td>0.040746</td>\n",
       "      <td>0.062239</td>\n",
       "      <td>0.021493</td>\n",
       "    </tr>\n",
       "    <tr>\n",
       "      <th>3</th>\n",
       "      <td>2023-09-04</td>\n",
       "      <td>Luke</td>\n",
       "      <td>LH_HairTransplant_VT_0411</td>\n",
       "      <td>6.07</td>\n",
       "      <td>11.47</td>\n",
       "      <td>5.40</td>\n",
       "      <td>20.73</td>\n",
       "      <td>0.889621</td>\n",
       "      <td>3.080650</td>\n",
       "      <td>164</td>\n",
       "      <td>108</td>\n",
       "      <td>0</td>\n",
       "      <td>80.0</td>\n",
       "      <td>inf</td>\n",
       "      <td>0.037012</td>\n",
       "      <td>0.069939</td>\n",
       "      <td>0.032927</td>\n",
       "    </tr>\n",
       "    <tr>\n",
       "      <th>4</th>\n",
       "      <td>2023-09-05</td>\n",
       "      <td>Luke</td>\n",
       "      <td>LH_HairTransplant_VT_0411</td>\n",
       "      <td>4.58</td>\n",
       "      <td>10.81</td>\n",
       "      <td>6.23</td>\n",
       "      <td>26.96</td>\n",
       "      <td>1.360262</td>\n",
       "      <td>4.440912</td>\n",
       "      <td>131</td>\n",
       "      <td>93</td>\n",
       "      <td>0</td>\n",
       "      <td>72.0</td>\n",
       "      <td>inf</td>\n",
       "      <td>0.034962</td>\n",
       "      <td>0.082519</td>\n",
       "      <td>0.047557</td>\n",
       "    </tr>\n",
       "  </tbody>\n",
       "</table>\n",
       "</div>"
      ],
      "text/plain": [
       "  ACTIVITY_DATE MEDIA_BUYER                    CAMPAIGN  SPEND  REVENUE  \\\n",
       "0    2023-09-01        Luke   LH_HairTransplant_VT_0411   5.39    11.28   \n",
       "1    2023-09-02        Luke   LH_HairTransplant_VT_0411   8.97    14.09   \n",
       "2    2023-09-03        Luke   LH_HairTransplant_VT_0411   8.19    12.51   \n",
       "3    2023-09-04        Luke   LH_HairTransplant_VT_0411   6.07    11.47   \n",
       "4    2023-09-05        Luke   LH_HairTransplant_VT_0411   4.58    10.81   \n",
       "\n",
       "   DAILY_PROFIT  TOTAL_PROFIT  DAILY_RETURN  TOTAL_RETURN  LANDER_ARRIVALS  \\\n",
       "0          5.89          5.89      1.092764      1.092764              132   \n",
       "1          5.12         11.01      0.570792      1.663556              192   \n",
       "2          4.32         15.33      0.527473      2.191028              201   \n",
       "3          5.40         20.73      0.889621      3.080650              164   \n",
       "4          6.23         26.96      1.360262      4.440912              131   \n",
       "\n",
       "   SERP_ARRIVALS  AD_CLICKS  ACCEPTED_CLICKS  ACCEPTANCE_RATE  \\\n",
       "0            102          0             91.0              inf   \n",
       "1            129          0            100.0              inf   \n",
       "2            133          0             99.0              inf   \n",
       "3            108          0             80.0              inf   \n",
       "4             93          0             72.0              inf   \n",
       "\n",
       "   SPEND_PER_ARRIVAL  REVENUE_PER_ARRIVAL  PROFIT_PER_ARRIVAL  \n",
       "0           0.040833             0.085455            0.044621  \n",
       "1           0.046719             0.073385            0.026667  \n",
       "2           0.040746             0.062239            0.021493  \n",
       "3           0.037012             0.069939            0.032927  \n",
       "4           0.034962             0.082519            0.047557  "
      ]
     },
     "execution_count": 4,
     "metadata": {},
     "output_type": "execute_result"
    }
   ],
   "source": [
    "df_full.head()"
   ]
  },
  {
   "cell_type": "code",
   "execution_count": 5,
   "id": "62830b5a-0039-4df3-aea3-5ccd7751c51b",
   "metadata": {},
   "outputs": [
    {
     "name": "stdout",
     "output_type": "stream",
     "text": [
      "<class 'pandas.core.frame.DataFrame'>\n",
      "RangeIndex: 100 entries, 0 to 99\n",
      "Data columns (total 17 columns):\n",
      " #   Column               Non-Null Count  Dtype  \n",
      "---  ------               --------------  -----  \n",
      " 0   ACTIVITY_DATE        100 non-null    object \n",
      " 1   MEDIA_BUYER          100 non-null    object \n",
      " 2   CAMPAIGN             100 non-null    object \n",
      " 3   SPEND                100 non-null    float64\n",
      " 4   REVENUE              100 non-null    float64\n",
      " 5   DAILY_PROFIT         100 non-null    float64\n",
      " 6   TOTAL_PROFIT         100 non-null    float64\n",
      " 7   DAILY_RETURN         100 non-null    float64\n",
      " 8   TOTAL_RETURN         100 non-null    float64\n",
      " 9   LANDER_ARRIVALS      100 non-null    int64  \n",
      " 10  SERP_ARRIVALS        100 non-null    int64  \n",
      " 11  AD_CLICKS            100 non-null    int64  \n",
      " 12  ACCEPTED_CLICKS      100 non-null    float64\n",
      " 13  ACCEPTANCE_RATE      100 non-null    float64\n",
      " 14  SPEND_PER_ARRIVAL    100 non-null    float64\n",
      " 15  REVENUE_PER_ARRIVAL  100 non-null    float64\n",
      " 16  PROFIT_PER_ARRIVAL   100 non-null    float64\n",
      "dtypes: float64(11), int64(3), object(3)\n",
      "memory usage: 13.4+ KB\n"
     ]
    }
   ],
   "source": [
    "df_test.info()"
   ]
  },
  {
   "cell_type": "code",
   "execution_count": 47,
   "id": "2ad91d7a-f706-4c98-aee1-adeb8582e118",
   "metadata": {
    "tags": []
   },
   "outputs": [],
   "source": [
    "df_test['ACTIVITY_DATE'] = pd.to_datetime(df_test['ACTIVITY_DATE'], format=\"%Y-%m-%d\")\n",
    "df_full['ACTIVITY_DATE'] = pd.to_datetime(df_full['ACTIVITY_DATE'], format=\"%Y-%m-%d\")"
   ]
  },
  {
   "cell_type": "code",
   "execution_count": 48,
   "id": "3199360e-c597-458a-95aa-1d2727f3550e",
   "metadata": {
    "tags": []
   },
   "outputs": [
    {
     "name": "stdout",
     "output_type": "stream",
     "text": [
      "<class 'pandas.core.frame.DataFrame'>\n",
      "RangeIndex: 100 entries, 0 to 99\n",
      "Data columns (total 17 columns):\n",
      " #   Column               Non-Null Count  Dtype         \n",
      "---  ------               --------------  -----         \n",
      " 0   ACTIVITY_DATE        100 non-null    datetime64[ns]\n",
      " 1   MEDIA_BUYER          100 non-null    object        \n",
      " 2   CAMPAIGN             100 non-null    object        \n",
      " 3   SPEND                100 non-null    float64       \n",
      " 4   REVENUE              100 non-null    float64       \n",
      " 5   DAILY_PROFIT         100 non-null    float64       \n",
      " 6   TOTAL_PROFIT         100 non-null    float64       \n",
      " 7   DAILY_RETURN         100 non-null    float64       \n",
      " 8   TOTAL_RETURN         100 non-null    float64       \n",
      " 9   LANDER_ARRIVALS      100 non-null    int64         \n",
      " 10  SERP_ARRIVALS        100 non-null    int64         \n",
      " 11  AD_CLICKS            100 non-null    int64         \n",
      " 12  ACCEPTED_CLICKS      100 non-null    float64       \n",
      " 13  ACCEPTANCE_RATE      100 non-null    float64       \n",
      " 14  SPEND_PER_ARRIVAL    100 non-null    float64       \n",
      " 15  REVENUE_PER_ARRIVAL  100 non-null    float64       \n",
      " 16  PROFIT_PER_ARRIVAL   100 non-null    float64       \n",
      "dtypes: datetime64[ns](1), float64(11), int64(3), object(2)\n",
      "memory usage: 13.4+ KB\n"
     ]
    }
   ],
   "source": [
    "df_test.info()"
   ]
  },
  {
   "cell_type": "code",
   "execution_count": 49,
   "id": "fd912dc1-0459-4a62-b86e-2f1db1974a43",
   "metadata": {
    "tags": []
   },
   "outputs": [
    {
     "data": {
      "text/plain": [
       "Timestamp('2023-11-09 00:00:00')"
      ]
     },
     "execution_count": 49,
     "metadata": {},
     "output_type": "execute_result"
    }
   ],
   "source": [
    "end_date = df_full['ACTIVITY_DATE'].max()\n",
    "# str(end_date).split(' ')[0]\n",
    "end_date"
   ]
  },
  {
   "cell_type": "code",
   "execution_count": 50,
   "id": "b30a1054-ff8a-4eab-b4b8-1d8d1b23b833",
   "metadata": {
    "tags": []
   },
   "outputs": [],
   "source": [
    "from datetime import timedelta\n",
    "\n",
    "def roll_back_days(most_recent_date, days_to_roll_back):\n",
    "   \n",
    "\n",
    "    # Calculate the rolled-back date\n",
    "    rolled_back_date = most_recent_date - timedelta(days=days_to_roll_back)\n",
    "\n",
    "    return rolled_back_date"
   ]
  },
  {
   "cell_type": "code",
   "execution_count": 55,
   "id": "a0e9c11c-b6be-43ba-8d87-8e88fa11f54a",
   "metadata": {
    "tags": []
   },
   "outputs": [
    {
     "data": {
      "text/plain": [
       "Timestamp('2023-11-02 00:00:00')"
      ]
     },
     "execution_count": 55,
     "metadata": {},
     "output_type": "execute_result"
    }
   ],
   "source": [
    "start_date = roll_back_days(end_date, 7)\n",
    "start_date"
   ]
  },
  {
   "cell_type": "code",
   "execution_count": 52,
   "id": "91879c88-521f-4925-af03-dd0238732d8b",
   "metadata": {
    "tags": []
   },
   "outputs": [],
   "source": [
    "# df_date = df[df[\"ACTIVITY_DATE\"].between"
   ]
  },
  {
   "cell_type": "code",
   "execution_count": 53,
   "id": "b2d31ef0-bcd8-40c0-9160-4e370b235a82",
   "metadata": {
    "tags": []
   },
   "outputs": [],
   "source": [
    "df_date = df_full[(df_full['ACTIVITY_DATE'] >= start_date) & (df_full['ACTIVITY_DATE'] <= end_date)]"
   ]
  },
  {
   "cell_type": "code",
   "execution_count": 54,
   "id": "f3b9c286-dd76-4083-8fb3-8e6314eda74e",
   "metadata": {
    "tags": []
   },
   "outputs": [
    {
     "data": {
      "text/html": [
       "<div>\n",
       "<style scoped>\n",
       "    .dataframe tbody tr th:only-of-type {\n",
       "        vertical-align: middle;\n",
       "    }\n",
       "\n",
       "    .dataframe tbody tr th {\n",
       "        vertical-align: top;\n",
       "    }\n",
       "\n",
       "    .dataframe thead th {\n",
       "        text-align: right;\n",
       "    }\n",
       "</style>\n",
       "<table border=\"1\" class=\"dataframe\">\n",
       "  <thead>\n",
       "    <tr style=\"text-align: right;\">\n",
       "      <th></th>\n",
       "      <th>ACTIVITY_DATE</th>\n",
       "      <th>MEDIA_BUYER</th>\n",
       "      <th>CAMPAIGN</th>\n",
       "      <th>SPEND</th>\n",
       "      <th>REVENUE</th>\n",
       "      <th>DAILY_PROFIT</th>\n",
       "      <th>TOTAL_PROFIT</th>\n",
       "      <th>DAILY_RETURN</th>\n",
       "      <th>TOTAL_RETURN</th>\n",
       "      <th>LANDER_ARRIVALS</th>\n",
       "      <th>SERP_ARRIVALS</th>\n",
       "      <th>AD_CLICKS</th>\n",
       "      <th>ACCEPTED_CLICKS</th>\n",
       "      <th>ACCEPTANCE_RATE</th>\n",
       "      <th>SPEND_PER_ARRIVAL</th>\n",
       "      <th>REVENUE_PER_ARRIVAL</th>\n",
       "      <th>PROFIT_PER_ARRIVAL</th>\n",
       "    </tr>\n",
       "  </thead>\n",
       "  <tbody>\n",
       "    <tr>\n",
       "      <th>192</th>\n",
       "      <td>2023-11-02</td>\n",
       "      <td>Alice</td>\n",
       "      <td>AP_Aug14_Lawyers_T3_NEW_WWBL</td>\n",
       "      <td>240.2387</td>\n",
       "      <td>559.94</td>\n",
       "      <td>319.7013</td>\n",
       "      <td>8190.1820</td>\n",
       "      <td>1.330765</td>\n",
       "      <td>29.507325</td>\n",
       "      <td>7035</td>\n",
       "      <td>1926</td>\n",
       "      <td>1685</td>\n",
       "      <td>886.0</td>\n",
       "      <td>0.525816</td>\n",
       "      <td>0.034149</td>\n",
       "      <td>0.079593</td>\n",
       "      <td>0.045444</td>\n",
       "    </tr>\n",
       "    <tr>\n",
       "      <th>193</th>\n",
       "      <td>2023-11-03</td>\n",
       "      <td>Alice</td>\n",
       "      <td>AP_Aug14_Lawyers_T3_NEW_WWBL</td>\n",
       "      <td>241.2837</td>\n",
       "      <td>604.31</td>\n",
       "      <td>363.0263</td>\n",
       "      <td>8553.2083</td>\n",
       "      <td>1.504562</td>\n",
       "      <td>31.011887</td>\n",
       "      <td>6412</td>\n",
       "      <td>1882</td>\n",
       "      <td>1515</td>\n",
       "      <td>923.0</td>\n",
       "      <td>0.609241</td>\n",
       "      <td>0.037630</td>\n",
       "      <td>0.094247</td>\n",
       "      <td>0.056617</td>\n",
       "    </tr>\n",
       "    <tr>\n",
       "      <th>194</th>\n",
       "      <td>2023-11-04</td>\n",
       "      <td>Alice</td>\n",
       "      <td>AP_Aug14_Lawyers_T3_NEW_WWBL</td>\n",
       "      <td>241.4509</td>\n",
       "      <td>409.10</td>\n",
       "      <td>167.6491</td>\n",
       "      <td>8720.8574</td>\n",
       "      <td>0.694340</td>\n",
       "      <td>31.706227</td>\n",
       "      <td>6428</td>\n",
       "      <td>1862</td>\n",
       "      <td>1392</td>\n",
       "      <td>855.0</td>\n",
       "      <td>0.614224</td>\n",
       "      <td>0.037562</td>\n",
       "      <td>0.063643</td>\n",
       "      <td>0.026081</td>\n",
       "    </tr>\n",
       "    <tr>\n",
       "      <th>195</th>\n",
       "      <td>2023-11-05</td>\n",
       "      <td>Alice</td>\n",
       "      <td>AP_Aug14_Lawyers_T3_NEW_WWBL</td>\n",
       "      <td>239.2331</td>\n",
       "      <td>365.23</td>\n",
       "      <td>125.9969</td>\n",
       "      <td>8846.8543</td>\n",
       "      <td>0.526670</td>\n",
       "      <td>32.232897</td>\n",
       "      <td>6052</td>\n",
       "      <td>1645</td>\n",
       "      <td>1431</td>\n",
       "      <td>713.0</td>\n",
       "      <td>0.498253</td>\n",
       "      <td>0.039530</td>\n",
       "      <td>0.060349</td>\n",
       "      <td>0.020819</td>\n",
       "    </tr>\n",
       "    <tr>\n",
       "      <th>196</th>\n",
       "      <td>2023-11-06</td>\n",
       "      <td>Alice</td>\n",
       "      <td>AP_Aug14_Lawyers_T3_NEW_WWBL</td>\n",
       "      <td>300.9309</td>\n",
       "      <td>532.45</td>\n",
       "      <td>231.5191</td>\n",
       "      <td>9078.3734</td>\n",
       "      <td>0.769343</td>\n",
       "      <td>33.002240</td>\n",
       "      <td>6942</td>\n",
       "      <td>1721</td>\n",
       "      <td>1414</td>\n",
       "      <td>851.0</td>\n",
       "      <td>0.601839</td>\n",
       "      <td>0.043349</td>\n",
       "      <td>0.076700</td>\n",
       "      <td>0.033350</td>\n",
       "    </tr>\n",
       "  </tbody>\n",
       "</table>\n",
       "</div>"
      ],
      "text/plain": [
       "    ACTIVITY_DATE MEDIA_BUYER                      CAMPAIGN     SPEND  \\\n",
       "192    2023-11-02       Alice  AP_Aug14_Lawyers_T3_NEW_WWBL  240.2387   \n",
       "193    2023-11-03       Alice  AP_Aug14_Lawyers_T3_NEW_WWBL  241.2837   \n",
       "194    2023-11-04       Alice  AP_Aug14_Lawyers_T3_NEW_WWBL  241.4509   \n",
       "195    2023-11-05       Alice  AP_Aug14_Lawyers_T3_NEW_WWBL  239.2331   \n",
       "196    2023-11-06       Alice  AP_Aug14_Lawyers_T3_NEW_WWBL  300.9309   \n",
       "\n",
       "     REVENUE  DAILY_PROFIT  TOTAL_PROFIT  DAILY_RETURN  TOTAL_RETURN  \\\n",
       "192   559.94      319.7013     8190.1820      1.330765     29.507325   \n",
       "193   604.31      363.0263     8553.2083      1.504562     31.011887   \n",
       "194   409.10      167.6491     8720.8574      0.694340     31.706227   \n",
       "195   365.23      125.9969     8846.8543      0.526670     32.232897   \n",
       "196   532.45      231.5191     9078.3734      0.769343     33.002240   \n",
       "\n",
       "     LANDER_ARRIVALS  SERP_ARRIVALS  AD_CLICKS  ACCEPTED_CLICKS  \\\n",
       "192             7035           1926       1685            886.0   \n",
       "193             6412           1882       1515            923.0   \n",
       "194             6428           1862       1392            855.0   \n",
       "195             6052           1645       1431            713.0   \n",
       "196             6942           1721       1414            851.0   \n",
       "\n",
       "     ACCEPTANCE_RATE  SPEND_PER_ARRIVAL  REVENUE_PER_ARRIVAL  \\\n",
       "192         0.525816           0.034149             0.079593   \n",
       "193         0.609241           0.037630             0.094247   \n",
       "194         0.614224           0.037562             0.063643   \n",
       "195         0.498253           0.039530             0.060349   \n",
       "196         0.601839           0.043349             0.076700   \n",
       "\n",
       "     PROFIT_PER_ARRIVAL  \n",
       "192            0.045444  \n",
       "193            0.056617  \n",
       "194            0.026081  \n",
       "195            0.020819  \n",
       "196            0.033350  "
      ]
     },
     "execution_count": 54,
     "metadata": {},
     "output_type": "execute_result"
    }
   ],
   "source": [
    "df_date.head()"
   ]
  },
  {
   "cell_type": "code",
   "execution_count": 56,
   "id": "426aae88-a183-4a57-b4e0-51d26fd68eb4",
   "metadata": {
    "tags": []
   },
   "outputs": [
    {
     "data": {
      "text/plain": [
       "3715"
      ]
     },
     "execution_count": 56,
     "metadata": {},
     "output_type": "execute_result"
    }
   ],
   "source": [
    "len(df_date)"
   ]
  },
  {
   "cell_type": "code",
   "execution_count": 57,
   "id": "6bba1336-765c-46c5-9c1d-e53cbf71f488",
   "metadata": {
    "tags": []
   },
   "outputs": [
    {
     "data": {
      "text/plain": [
       "25086"
      ]
     },
     "execution_count": 57,
     "metadata": {},
     "output_type": "execute_result"
    }
   ],
   "source": [
    "len(df_full)"
   ]
  },
  {
   "cell_type": "code",
   "execution_count": null,
   "id": "36634f02-9fd1-4612-91db-021dc969aa00",
   "metadata": {},
   "outputs": [],
   "source": []
  }
 ],
 "metadata": {
  "kernelspec": {
   "display_name": "Python 3 (ipykernel)",
   "language": "python",
   "name": "python3"
  },
  "language_info": {
   "codemirror_mode": {
    "name": "ipython",
    "version": 3
   },
   "file_extension": ".py",
   "mimetype": "text/x-python",
   "name": "python",
   "nbconvert_exporter": "python",
   "pygments_lexer": "ipython3",
   "version": "3.11.5"
  },
  "widgets": {
   "application/vnd.jupyter.widget-state+json": {
    "state": {},
    "version_major": 2,
    "version_minor": 0
   }
  }
 },
 "nbformat": 4,
 "nbformat_minor": 5
}
